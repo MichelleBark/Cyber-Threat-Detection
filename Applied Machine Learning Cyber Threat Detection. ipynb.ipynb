{
 "cells": [
  {
   "cell_type": "code",
   "execution_count": 1,
   "id": "c8eea795",
   "metadata": {},
   "outputs": [],
   "source": [
    "import os\n",
    "os.chdir('D:\\Birkbeck\\MSc Data Science\\Year 2\\AML\\Course work\\Coursework Dataset-20211201')\n",
    "filename = 'train_imperson_without4n7_balanced_data.csv'"
   ]
  },
  {
   "cell_type": "code",
   "execution_count": 2,
   "id": "f2798633",
   "metadata": {},
   "outputs": [],
   "source": [
    "# All imports\n",
    "import pandas as pd\n",
    "import numpy as np\n",
    "import seaborn as sns\n",
    "\n",
    "from matplotlib import pyplot\n",
    "\n",
    "from sklearn.preprocessing import MinMaxScaler, StandardScaler\n",
    "from sklearn.pipeline import FeatureUnion, Pipeline\n",
    "from sklearn.model_selection import train_test_split, KFold, cross_val_score, RandomizedSearchCV, GridSearchCV\n",
    "from sklearn.feature_selection import VarianceThreshold, SelectKBest, chi2, mutual_info_classif\n",
    "from sklearn.ensemble import ExtraTreesClassifier\n",
    "\n",
    "from sklearn.linear_model import LogisticRegression\n",
    "from sklearn.discriminant_analysis import LinearDiscriminantAnalysis, QuadraticDiscriminantAnalysis\n",
    "from sklearn.neighbors import KNeighborsClassifier\n",
    "from sklearn.tree import DecisionTreeClassifier\n",
    "from sklearn.naive_bayes import GaussianNB\n",
    "from sklearn.svm import SVC, LinearSVC\n",
    "\n",
    "from sklearn.metrics import roc_curve, roc_auc_score, confusion_matrix, classification_report\n",
    "\n",
    "import tensorflow as tf\n",
    "from tensorflow import keras\n",
    "from keras.models import Model\n",
    "from keras.layers import Lambda, Input, Dense\n",
    "from keras.losses import binary_crossentropy\n",
    "\n",
    "from tensorflow.python.framework.ops import disable_eager_execution\n",
    "disable_eager_execution()\n",
    "\n",
    "import warnings\n",
    "warnings.filterwarnings('ignore')\n",
    "\n",
    "from __future__ import print_function"
   ]
  },
  {
   "cell_type": "code",
   "execution_count": 3,
   "id": "ab10734b",
   "metadata": {},
   "outputs": [
    {
     "name": "stdout",
     "output_type": "stream",
     "text": [
      "<class 'pandas.core.frame.DataFrame'>\n",
      "RangeIndex: 97044 entries, 0 to 97043\n",
      "Columns: 152 entries, 1 to 155\n",
      "dtypes: float64(47), int64(105)\n",
      "memory usage: 112.5 MB\n"
     ]
    }
   ],
   "source": [
    "#Create DF exclude feature 38, see notes and [4]\n",
    "train = pd.read_csv(filename)\n",
    "train_data = train.drop(labels = '38', axis =1, inplace = False)\n",
    "train_data.info()\n",
    "# train_data.head()"
   ]
  },
  {
   "cell_type": "markdown",
   "id": "180e3583",
   "metadata": {},
   "source": [
    "# Data Preparation"
   ]
  },
  {
   "cell_type": "code",
   "execution_count": 4,
   "id": "2fa4a77c",
   "metadata": {},
   "outputs": [],
   "source": [
    "array = train_data.values\n",
    "X_train = array[ : , 0:151]\n",
    "y_train = array[ : , 151]"
   ]
  },
  {
   "cell_type": "code",
   "execution_count": 5,
   "id": "56233f13",
   "metadata": {},
   "outputs": [
    {
     "name": "stdout",
     "output_type": "stream",
     "text": [
      "(77635, 151)\n"
     ]
    }
   ],
   "source": [
    "#split into a train and validation set\n",
    "X_train, X_valid, y_train, y_valid = train_test_split(X_train, y_train, test_size=0.2, random_state=3)\n",
    "print(X_train.shape)"
   ]
  },
  {
   "cell_type": "code",
   "execution_count": 6,
   "id": "cd002305",
   "metadata": {},
   "outputs": [
    {
     "name": "stdout",
     "output_type": "stream",
     "text": [
      "38851.0\n",
      "9671.0\n"
     ]
    }
   ],
   "source": [
    "#check that train and test still splits across the target evenly:\n",
    "print(y_train.sum())\n",
    "print(y_valid.sum())"
   ]
  },
  {
   "cell_type": "markdown",
   "id": "4a138503",
   "metadata": {},
   "source": [
    "### Normalise Data"
   ]
  },
  {
   "cell_type": "code",
   "execution_count": 7,
   "id": "938438e8",
   "metadata": {},
   "outputs": [
    {
     "name": "stdout",
     "output_type": "stream",
     "text": [
      "(77635, 151)\n"
     ]
    }
   ],
   "source": [
    "norm_scaler = MinMaxScaler(feature_range = (0,1), clip= True).fit(X_train)\n",
    "n_X_train = norm_scaler.transform(X_train)\n",
    "print(n_X_train.shape)"
   ]
  },
  {
   "cell_type": "code",
   "execution_count": 8,
   "id": "a67627d5",
   "metadata": {},
   "outputs": [
    {
     "name": "stdout",
     "output_type": "stream",
     "text": [
      "(19409, 151)\n"
     ]
    }
   ],
   "source": [
    "#also need to normalise the validation data for the autoencoder\n",
    "n_X_valid = norm_scaler.transform(X_valid)\n",
    "print(n_X_valid.shape)"
   ]
  },
  {
   "cell_type": "markdown",
   "id": "de401083",
   "metadata": {},
   "source": [
    "# Variational Autoencoder"
   ]
  },
  {
   "cell_type": "code",
   "execution_count": 9,
   "id": "ee276c22",
   "metadata": {},
   "outputs": [],
   "source": [
    "#Attempt at Variational Autoencoder\n",
    "#coding layer is different in  Sampling class used as in Geron book [8] to calculate the mean and log variance in the code layer.\n",
    "\n",
    "class Sampling(keras.layers.Layer):\n",
    "    def call(self, input_data):\n",
    "        mean, log_var = input_data\n",
    "        return keras.backend.random_normal(tf.shape(log_var)) * keras.backend.exp(log_var / 2) + mean \n",
    "    \n",
    "input_size = 151\n",
    "code_size = 20\n",
    "\n",
    "input_data = Input(shape=(input_size,))\n",
    "hidden_1 = Dense(75, activation='relu')(input_data)\n",
    "hidden_2 = Dense(35, activation = 'relu')(hidden_1)\n",
    "\n",
    "code_mean = Dense(code_size)(hidden_2)\n",
    "code_log_var = Dense(code_size)(hidden_2)\n",
    "code = Sampling()([code_mean, code_log_var])\n",
    "\n",
    "var_encoder = Model(\n",
    "    input_data, outputs = code)\n",
    "# code_mean and code_log_variance not included in output, no need to inspect.\n",
    "\n",
    "decoder_inputs = Input(shape = [code_size])\n",
    "hidden_3 = Dense(35, activation = 'relu')(decoder_inputs)\n",
    "hidden_4 = Dense(75, activation='relu')(hidden_3)\n",
    "output_data = Dense(input_size, activation='sigmoid')(hidden_4)\n",
    "\n",
    "var_decoder = Model(inputs = decoder_inputs, outputs =output_data)\n",
    "\n",
    "code = var_encoder(input_data)\n",
    "reconst = var_decoder(code)\n",
    "var_ae = Model(input_data, reconst)"
   ]
  },
  {
   "cell_type": "code",
   "execution_count": 10,
   "id": "b1eb7bab",
   "metadata": {},
   "outputs": [
    {
     "name": "stdout",
     "output_type": "stream",
     "text": [
      "Train on 77635 samples, validate on 19409 samples\n",
      "Epoch 1/10\n",
      "77635/77635 [==============================] - 9s 113us/sample - loss: 0.0686 - val_loss: 0.0521\n",
      "Epoch 2/10\n",
      "77635/77635 [==============================] - 8s 100us/sample - loss: 0.0504 - val_loss: 0.0496\n",
      "Epoch 3/10\n",
      "77635/77635 [==============================] - 8s 99us/sample - loss: 0.0485 - val_loss: 0.0485\n",
      "Epoch 4/10\n",
      "77635/77635 [==============================] - 8s 99us/sample - loss: 0.0476 - val_loss: 0.0473\n",
      "Epoch 5/10\n",
      "77635/77635 [==============================] - 8s 98us/sample - loss: 0.0471 - val_loss: 0.0469\n",
      "Epoch 6/10\n",
      "77635/77635 [==============================] - 8s 99us/sample - loss: 0.0466 - val_loss: 0.0465\n",
      "Epoch 7/10\n",
      "77635/77635 [==============================] - 8s 97us/sample - loss: 0.0464 - val_loss: 0.0469\n",
      "Epoch 8/10\n",
      "77635/77635 [==============================] - 8s 100us/sample - loss: 0.0462 - val_loss: 0.0463\n",
      "Epoch 9/10\n",
      "77635/77635 [==============================] - 8s 98us/sample - loss: 0.0461 - val_loss: 0.0462\n",
      "Epoch 10/10\n",
      "77635/77635 [==============================] - 8s 97us/sample - loss: 0.0460 - val_loss: 0.0462\n"
     ]
    }
   ],
   "source": [
    "K= keras.backend\n",
    "#custom loss function for VAE\n",
    "\n",
    "def losses_func(input_data,reconst):\n",
    "    latent_loss = -0.5 * K.sum(1 + code_log_var - K.exp(code_log_var) - K.square(code_mean),axis = -1)\n",
    "    reconstruction_loss = tf.keras.losses.binary_crossentropy(input_data,reconst)\n",
    "    return (K.mean(latent_loss)/151.) + reconstruction_loss\n",
    "\n",
    "disable_eager_execution()\n",
    "var_ae.compile(optimizer = 'adam', loss = losses_func)\n",
    "history = var_ae.fit(n_X_train, n_X_train, epochs = 10, validation_data=[n_X_valid,n_X_valid])"
   ]
  },
  {
   "cell_type": "code",
   "execution_count": 67,
   "id": "bb465ac8",
   "metadata": {},
   "outputs": [
    {
     "data": {
      "image/png": "[encoded data removed]",
      "text/plain": [
       "<Figure size 432x288 with 1 Axes>"
      ]
     },
     "metadata": {
      "needs_background": "light"
     },
     "output_type": "display_data"
    }
   ],
   "source": [
    "pyplot.plot(history.history['loss'],label = 'train')\n",
    "pyplot.plot(history.history['val_loss'], label = 'valid')\n",
    "pyplot.legend()\n",
    "pyplot.show()         "
   ]
  },
  {
   "cell_type": "code",
   "execution_count": 12,
   "id": "0ee49d0a",
   "metadata": {},
   "outputs": [
    {
     "name": "stdout",
     "output_type": "stream",
     "text": [
      "(77635, 20)\n"
     ]
    }
   ],
   "source": [
    "#The trained encoder contains the reduced features from the code layer.\n",
    "encoded = var_encoder\n",
    "gen_feat = encoded.predict(n_X_train)\n",
    "print(gen_feat.shape)"
   ]
  },
  {
   "cell_type": "code",
   "execution_count": 13,
   "id": "799d1716",
   "metadata": {},
   "outputs": [
    {
     "data": {
      "text/html": [
       "<div>\n",
       "<style scoped>\n",
       "    .dataframe tbody tr th:only-of-type {\n",
       "        vertical-align: middle;\n",
       "    }\n",
       "\n",
       "    .dataframe tbody tr th {\n",
       "        vertical-align: top;\n",
       "    }\n",
       "\n",
       "    .dataframe thead th {\n",
       "        text-align: right;\n",
       "    }\n",
       "</style>\n",
       "<table border=\"1\" class=\"dataframe\">\n",
       "  <thead>\n",
       "    <tr style=\"text-align: right;\">\n",
       "      <th></th>\n",
       "      <th>0</th>\n",
       "      <th>1</th>\n",
       "      <th>2</th>\n",
       "      <th>3</th>\n",
       "      <th>4</th>\n",
       "      <th>5</th>\n",
       "      <th>6</th>\n",
       "      <th>7</th>\n",
       "      <th>8</th>\n",
       "      <th>9</th>\n",
       "      <th>10</th>\n",
       "      <th>11</th>\n",
       "      <th>12</th>\n",
       "      <th>13</th>\n",
       "      <th>14</th>\n",
       "      <th>15</th>\n",
       "      <th>16</th>\n",
       "      <th>17</th>\n",
       "      <th>18</th>\n",
       "      <th>19</th>\n",
       "    </tr>\n",
       "  </thead>\n",
       "  <tbody>\n",
       "    <tr>\n",
       "      <th>count</th>\n",
       "      <td>77635.000000</td>\n",
       "      <td>77635.000000</td>\n",
       "      <td>77635.000000</td>\n",
       "      <td>77635.000000</td>\n",
       "      <td>77635.000000</td>\n",
       "      <td>77635.000000</td>\n",
       "      <td>77635.000000</td>\n",
       "      <td>77635.000000</td>\n",
       "      <td>77635.000000</td>\n",
       "      <td>77635.000000</td>\n",
       "      <td>77635.000000</td>\n",
       "      <td>77635.000000</td>\n",
       "      <td>77635.000000</td>\n",
       "      <td>77635.000000</td>\n",
       "      <td>77635.000000</td>\n",
       "      <td>77635.000000</td>\n",
       "      <td>77635.000000</td>\n",
       "      <td>77635.000000</td>\n",
       "      <td>77635.000000</td>\n",
       "      <td>77635.000000</td>\n",
       "    </tr>\n",
       "    <tr>\n",
       "      <th>mean</th>\n",
       "      <td>0.007975</td>\n",
       "      <td>-0.014686</td>\n",
       "      <td>-0.007167</td>\n",
       "      <td>-0.011954</td>\n",
       "      <td>-0.002431</td>\n",
       "      <td>0.004256</td>\n",
       "      <td>-0.002721</td>\n",
       "      <td>-0.005618</td>\n",
       "      <td>0.009899</td>\n",
       "      <td>-0.014758</td>\n",
       "      <td>0.040330</td>\n",
       "      <td>-0.026863</td>\n",
       "      <td>0.004052</td>\n",
       "      <td>0.013149</td>\n",
       "      <td>-0.015940</td>\n",
       "      <td>0.001999</td>\n",
       "      <td>0.002420</td>\n",
       "      <td>0.008556</td>\n",
       "      <td>-0.000616</td>\n",
       "      <td>0.002857</td>\n",
       "    </tr>\n",
       "    <tr>\n",
       "      <th>std</th>\n",
       "      <td>0.996512</td>\n",
       "      <td>0.998149</td>\n",
       "      <td>0.992776</td>\n",
       "      <td>1.025150</td>\n",
       "      <td>0.998242</td>\n",
       "      <td>0.993627</td>\n",
       "      <td>0.994100</td>\n",
       "      <td>1.001477</td>\n",
       "      <td>0.990939</td>\n",
       "      <td>1.003381</td>\n",
       "      <td>1.002986</td>\n",
       "      <td>1.039674</td>\n",
       "      <td>1.004941</td>\n",
       "      <td>1.004675</td>\n",
       "      <td>0.999484</td>\n",
       "      <td>0.992996</td>\n",
       "      <td>1.003375</td>\n",
       "      <td>1.001045</td>\n",
       "      <td>0.995505</td>\n",
       "      <td>1.001547</td>\n",
       "    </tr>\n",
       "    <tr>\n",
       "      <th>min</th>\n",
       "      <td>-3.913124</td>\n",
       "      <td>-4.172613</td>\n",
       "      <td>-4.691636</td>\n",
       "      <td>-2.868741</td>\n",
       "      <td>-4.312706</td>\n",
       "      <td>-4.170174</td>\n",
       "      <td>-4.359895</td>\n",
       "      <td>-5.059746</td>\n",
       "      <td>-4.051183</td>\n",
       "      <td>-4.635496</td>\n",
       "      <td>-5.310431</td>\n",
       "      <td>-3.234968</td>\n",
       "      <td>-4.424361</td>\n",
       "      <td>-4.138099</td>\n",
       "      <td>-4.494929</td>\n",
       "      <td>-3.915896</td>\n",
       "      <td>-3.960107</td>\n",
       "      <td>-4.236534</td>\n",
       "      <td>-4.306322</td>\n",
       "      <td>-4.304927</td>\n",
       "    </tr>\n",
       "    <tr>\n",
       "      <th>25%</th>\n",
       "      <td>-0.664418</td>\n",
       "      <td>-0.683975</td>\n",
       "      <td>-0.676355</td>\n",
       "      <td>-0.823501</td>\n",
       "      <td>-0.675304</td>\n",
       "      <td>-0.666235</td>\n",
       "      <td>-0.670050</td>\n",
       "      <td>-0.682302</td>\n",
       "      <td>-0.657388</td>\n",
       "      <td>-0.692571</td>\n",
       "      <td>-0.645140</td>\n",
       "      <td>-0.828727</td>\n",
       "      <td>-0.676868</td>\n",
       "      <td>-0.666965</td>\n",
       "      <td>-0.690321</td>\n",
       "      <td>-0.664430</td>\n",
       "      <td>-0.679163</td>\n",
       "      <td>-0.671059</td>\n",
       "      <td>-0.670354</td>\n",
       "      <td>-0.671424</td>\n",
       "    </tr>\n",
       "    <tr>\n",
       "      <th>50%</th>\n",
       "      <td>0.010265</td>\n",
       "      <td>-0.010778</td>\n",
       "      <td>-0.005253</td>\n",
       "      <td>-0.035079</td>\n",
       "      <td>0.000632</td>\n",
       "      <td>0.005986</td>\n",
       "      <td>-0.001896</td>\n",
       "      <td>-0.005344</td>\n",
       "      <td>0.009249</td>\n",
       "      <td>-0.017381</td>\n",
       "      <td>0.007542</td>\n",
       "      <td>-0.258150</td>\n",
       "      <td>0.005092</td>\n",
       "      <td>0.013097</td>\n",
       "      <td>-0.011374</td>\n",
       "      <td>0.002759</td>\n",
       "      <td>0.000395</td>\n",
       "      <td>0.002336</td>\n",
       "      <td>-0.003913</td>\n",
       "      <td>0.003248</td>\n",
       "    </tr>\n",
       "    <tr>\n",
       "      <th>75%</th>\n",
       "      <td>0.679081</td>\n",
       "      <td>0.655875</td>\n",
       "      <td>0.661702</td>\n",
       "      <td>0.639562</td>\n",
       "      <td>0.667362</td>\n",
       "      <td>0.675464</td>\n",
       "      <td>0.665887</td>\n",
       "      <td>0.671623</td>\n",
       "      <td>0.677310</td>\n",
       "      <td>0.661387</td>\n",
       "      <td>0.745989</td>\n",
       "      <td>0.868696</td>\n",
       "      <td>0.685431</td>\n",
       "      <td>0.687567</td>\n",
       "      <td>0.660342</td>\n",
       "      <td>0.677670</td>\n",
       "      <td>0.687836</td>\n",
       "      <td>0.683942</td>\n",
       "      <td>0.671120</td>\n",
       "      <td>0.678753</td>\n",
       "    </tr>\n",
       "    <tr>\n",
       "      <th>max</th>\n",
       "      <td>4.366189</td>\n",
       "      <td>4.441914</td>\n",
       "      <td>4.120115</td>\n",
       "      <td>2.695797</td>\n",
       "      <td>4.643752</td>\n",
       "      <td>4.973356</td>\n",
       "      <td>4.380567</td>\n",
       "      <td>4.174656</td>\n",
       "      <td>4.328950</td>\n",
       "      <td>4.009584</td>\n",
       "      <td>4.438735</td>\n",
       "      <td>3.465535</td>\n",
       "      <td>5.702774</td>\n",
       "      <td>4.739316</td>\n",
       "      <td>4.011050</td>\n",
       "      <td>4.237863</td>\n",
       "      <td>4.123657</td>\n",
       "      <td>4.106179</td>\n",
       "      <td>4.307766</td>\n",
       "      <td>4.159869</td>\n",
       "    </tr>\n",
       "  </tbody>\n",
       "</table>\n",
       "</div>"
      ],
      "text/plain": [
       "                 0             1             2             3             4   \\\n",
       "count  77635.000000  77635.000000  77635.000000  77635.000000  77635.000000   \n",
       "mean       0.007975     -0.014686     -0.007167     -0.011954     -0.002431   \n",
       "std        0.996512      0.998149      0.992776      1.025150      0.998242   \n",
       "min       -3.913124     -4.172613     -4.691636     -2.868741     -4.312706   \n",
       "25%       -0.664418     -0.683975     -0.676355     -0.823501     -0.675304   \n",
       "50%        0.010265     -0.010778     -0.005253     -0.035079      0.000632   \n",
       "75%        0.679081      0.655875      0.661702      0.639562      0.667362   \n",
       "max        4.366189      4.441914      4.120115      2.695797      4.643752   \n",
       "\n",
       "                 5             6             7             8             9   \\\n",
       "count  77635.000000  77635.000000  77635.000000  77635.000000  77635.000000   \n",
       "mean       0.004256     -0.002721     -0.005618      0.009899     -0.014758   \n",
       "std        0.993627      0.994100      1.001477      0.990939      1.003381   \n",
       "min       -4.170174     -4.359895     -5.059746     -4.051183     -4.635496   \n",
       "25%       -0.666235     -0.670050     -0.682302     -0.657388     -0.692571   \n",
       "50%        0.005986     -0.001896     -0.005344      0.009249     -0.017381   \n",
       "75%        0.675464      0.665887      0.671623      0.677310      0.661387   \n",
       "max        4.973356      4.380567      4.174656      4.328950      4.009584   \n",
       "\n",
       "                 10            11            12            13            14  \\\n",
       "count  77635.000000  77635.000000  77635.000000  77635.000000  77635.000000   \n",
       "mean       0.040330     -0.026863      0.004052      0.013149     -0.015940   \n",
       "std        1.002986      1.039674      1.004941      1.004675      0.999484   \n",
       "min       -5.310431     -3.234968     -4.424361     -4.138099     -4.494929   \n",
       "25%       -0.645140     -0.828727     -0.676868     -0.666965     -0.690321   \n",
       "50%        0.007542     -0.258150      0.005092      0.013097     -0.011374   \n",
       "75%        0.745989      0.868696      0.685431      0.687567      0.660342   \n",
       "max        4.438735      3.465535      5.702774      4.739316      4.011050   \n",
       "\n",
       "                 15            16            17            18            19  \n",
       "count  77635.000000  77635.000000  77635.000000  77635.000000  77635.000000  \n",
       "mean       0.001999      0.002420      0.008556     -0.000616      0.002857  \n",
       "std        0.992996      1.003375      1.001045      0.995505      1.001547  \n",
       "min       -3.915896     -3.960107     -4.236534     -4.306322     -4.304927  \n",
       "25%       -0.664430     -0.679163     -0.671059     -0.670354     -0.671424  \n",
       "50%        0.002759      0.000395      0.002336     -0.003913      0.003248  \n",
       "75%        0.677670      0.687836      0.683942      0.671120      0.678753  \n",
       "max        4.237863      4.123657      4.106179      4.307766      4.159869  "
      ]
     },
     "execution_count": 13,
     "metadata": {},
     "output_type": "execute_result"
    }
   ],
   "source": [
    "#Having a look at the output further:\n",
    "gen_featdf = pd.DataFrame(gen_feat)\n",
    "gen_featdf.describe()"
   ]
  },
  {
   "cell_type": "markdown",
   "id": "191e87f5",
   "metadata": {},
   "source": [
    "As expected from the VAE code layer, the generated features have a mean of zero and a standard deviation of 1. "
   ]
  },
  {
   "cell_type": "code",
   "execution_count": 14,
   "id": "0dabb66b",
   "metadata": {},
   "outputs": [],
   "source": [
    "#normalise the generated features and create a dataframe with new column labels to easily identify vs original features\n",
    "\n",
    "norm_scaler20 = MinMaxScaler(feature_range = (0,1), clip = True).fit(gen_feat)\n",
    "n_gen_feat = norm_scaler20.transform(gen_feat)\n",
    "n_gen_feat = pd.DataFrame(n_gen_feat)\n",
    "new_col_headers = map(str,[160,161,162,163,164,165,166,167,168,169, 170,171,172,173,174,175,176,177,178,179])\n",
    "n_gen_feat.columns= new_col_headers\n",
    "#print(n_gen_feat.head())"
   ]
  },
  {
   "cell_type": "code",
   "execution_count": 15,
   "id": "4b7128b3",
   "metadata": {},
   "outputs": [
    {
     "name": "stdout",
     "output_type": "stream",
     "text": [
      "(77635, 171)\n"
     ]
    }
   ],
   "source": [
    "#add generated features dataframe to new features dataframe. With correct column/feature labels. \n",
    "\n",
    "num_data = open('col labels numeric.csv')\n",
    "num_lst = []\n",
    "for label in num_data:\n",
    "    label = label.rstrip()\n",
    "    num_lst.append(label)\n",
    "\n",
    "n_orig_feat = pd.DataFrame(n_X_train, columns = num_lst)\n",
    "#pd.set_option('display.float_format',  '{:,.4f}'.format)\n",
    "#print(n_orig_feat.head())\n",
    "#print(n_orig_feat.shape)\n",
    "\n",
    "n_all_feat = pd.concat([n_orig_feat,n_gen_feat],axis = 1)\n",
    "print(n_all_feat.shape)\n",
    "#pd.set_option('display.max_columns',161)\n",
    "#print(n_all_feat.head())"
   ]
  },
  {
   "cell_type": "markdown",
   "id": "51fb334a",
   "metadata": {},
   "source": [
    "# Feature Selection"
   ]
  },
  {
   "cell_type": "markdown",
   "id": "25ef7734",
   "metadata": {},
   "source": [
    "### Variance Threshold Filter"
   ]
  },
  {
   "cell_type": "code",
   "execution_count": 16,
   "id": "58b6e731",
   "metadata": {},
   "outputs": [
    {
     "name": "stdout",
     "output_type": "stream",
     "text": [
      "Index(['5', '6', '8', '9', '14', '15', '16', '18', '20', '26', '29', '43',\n",
      "       '47', '48', '50', '51', '52', '61', '62', '64', '66', '67', '68', '70',\n",
      "       '71', '72', '73', '75', '76', '77', '78', '79', '80', '82', '83', '84',\n",
      "       '86', '88', '89', '90', '93', '94', '97', '98', '104', '105', '106',\n",
      "       '107', '108', '109', '110', '111', '112', '113', '117', '118', '119',\n",
      "       '120', '121', '122', '123', '125', '126', '127', '128', '129', '130',\n",
      "       '133', '138', '140', '141', '142', '143', '144', '145', '146', '154',\n",
      "       '160', '161', '162', '163', '164', '165', '166', '167', '168', '169',\n",
      "       '170', '171', '172', '173', '174', '175', '176', '177', '178', '179'],\n",
      "      dtype='object')\n",
      "97\n"
     ]
    }
   ],
   "source": [
    "feat_sel = VarianceThreshold()\n",
    "feat_sel.fit_transform(n_all_feat)\n",
    "red_feat = pd.DataFrame(feat_sel.transform(n_all_feat))\n",
    "col_lst = n_all_feat.columns[feat_sel.get_support()]\n",
    "print(col_lst)\n",
    "print(len(col_lst))"
   ]
  },
  {
   "cell_type": "code",
   "execution_count": 17,
   "id": "6f9b7f3a",
   "metadata": {},
   "outputs": [
    {
     "data": {
      "text/plain": [
       "(77635, 97)"
      ]
     },
     "execution_count": 17,
     "metadata": {},
     "output_type": "execute_result"
    }
   ],
   "source": [
    "red_feat.columns = col_lst\n",
    "red_feat.shape\n",
    "#red_all_feat.head()"
   ]
  },
  {
   "cell_type": "markdown",
   "id": "ff1fc403",
   "metadata": {},
   "source": [
    "### Kbest with Chi2 Filter"
   ]
  },
  {
   "cell_type": "code",
   "execution_count": 18,
   "id": "d61db0ad",
   "metadata": {},
   "outputs": [
    {
     "name": "stdout",
     "output_type": "stream",
     "text": [
      "Index(['8', '9', '47', '50', '51', '66', '67', '68', '70', '71', '73', '77',\n",
      "       '82', '94', '107', '110', '121', '122', '126', '127', '128', '129',\n",
      "       '130', '140', '143', '145', '146', '154', '163', '171'],\n",
      "      dtype='object')\n"
     ]
    }
   ],
   "source": [
    "kbest = SelectKBest(score_func = chi2, k =30)\n",
    "kbest_out = kbest.fit_transform(red_feat, y_train)\n",
    "kbest_out = red_feat.columns[kbest.get_support()]\n",
    "print(kbest_out)"
   ]
  },
  {
   "cell_type": "code",
   "execution_count": 19,
   "id": "8b04b148",
   "metadata": {},
   "outputs": [
    {
     "data": {
      "text/plain": [
       "(77635, 30)"
      ]
     },
     "execution_count": 19,
     "metadata": {},
     "output_type": "execute_result"
    }
   ],
   "source": [
    "red_feat2 = pd.DataFrame(kbest.transform(red_feat))\n",
    "red_feat2.columns = kbest_out\n",
    "red_feat2.shape\n",
    "#red_feat2.head()"
   ]
  },
  {
   "cell_type": "markdown",
   "id": "9b8640c6",
   "metadata": {},
   "source": [
    "### Kbest with MI Filter"
   ]
  },
  {
   "cell_type": "code",
   "execution_count": 20,
   "id": "7f9d23fc",
   "metadata": {},
   "outputs": [
    {
     "name": "stdout",
     "output_type": "stream",
     "text": [
      "Index(['8', '9', '47', '50', '51', '66', '67', '68', '71', '77', '82', '140',\n",
      "       '154', '163', '171'],\n",
      "      dtype='object')\n"
     ]
    }
   ],
   "source": [
    "kbest_mi = SelectKBest(score_func = mutual_info_classif, k = 15)\n",
    "kbest_mi_out = kbest_mi.fit_transform(red_feat2 , y_train)\n",
    "kbest_mi_out = red_feat2.columns[kbest_mi.get_support()]\n",
    "print(kbest_mi_out)"
   ]
  },
  {
   "cell_type": "code",
   "execution_count": 21,
   "id": "10cb52ae",
   "metadata": {},
   "outputs": [
    {
     "data": {
      "text/plain": [
       "(77635, 15)"
      ]
     },
     "execution_count": 21,
     "metadata": {},
     "output_type": "execute_result"
    }
   ],
   "source": [
    "X_train_final = pd.DataFrame(kbest_mi.transform(red_feat2))\n",
    "X_train_final.columns = kbest_mi_out\n",
    "X_train_final.shape\n",
    "#X_train_final.head()\n"
   ]
  },
  {
   "cell_type": "code",
   "execution_count": 22,
   "id": "13c0a6ac",
   "metadata": {},
   "outputs": [
    {
     "name": "stdout",
     "output_type": "stream",
     "text": [
      "(77635, 13)\n"
     ]
    }
   ],
   "source": [
    "#checking - correlation function from [12] for future addition to process. Not used in this model\n",
    "\n",
    "def pairwise_corr(df, threshold = 0.9):\n",
    "    \n",
    "    matrix = df.corr()\n",
    "    mask = np.triu(np.ones_like(matrix,dtype = bool))\n",
    "    reduced_matrix = matrix.mask(mask)\n",
    "    col_to_drop = [col for col in reduced_matrix.columns if any (reduced_matrix[col] > threshold)]\n",
    "    return col_to_drop\n",
    "\n",
    "corr_columns = pairwise_corr(X_train_final, 0.95)\n",
    "X_train_corr = X_train_final.drop(corr_columns, axis = 1)\n",
    "print(X_train_corr.shape)"
   ]
  },
  {
   "cell_type": "code",
   "execution_count": 23,
   "id": "8f710da8",
   "metadata": {},
   "outputs": [
    {
     "name": "stdout",
     "output_type": "stream",
     "text": [
      "['8', '9']\n"
     ]
    }
   ],
   "source": [
    "print(corr_columns)"
   ]
  },
  {
   "cell_type": "markdown",
   "id": "6e28cd1a",
   "metadata": {},
   "source": [
    "# Selecting Algorithms"
   ]
  },
  {
   "cell_type": "markdown",
   "id": "aef7a696",
   "metadata": {},
   "source": [
    "### Initial Exploration of Possible Algorithms - no tuning"
   ]
  },
  {
   "cell_type": "code",
   "execution_count": 24,
   "id": "57d59136",
   "metadata": {},
   "outputs": [
    {
     "name": "stdout",
     "output_type": "stream",
     "text": [
      "LR: 0.977214 (0.001372)\n",
      "LDA: 0.957622 (0.001666)\n",
      "QDA: 0.897976 (0.146554)\n",
      "KNN: 0.997785 (0.000426)\n",
      "ET: 0.999820 (0.000175)\n",
      "NB: 0.981168 (0.002130)\n",
      "LSVC: 0.978657 (0.001423)\n"
     ]
    }
   ],
   "source": [
    "#compare algs as in lab:\n",
    "array = X_train_final.values\n",
    "X = array[ : , 0:15]\n",
    "Y = y_train\n",
    "\n",
    "# prepare models\n",
    "models = []\n",
    "models.append(('LR', LogisticRegression(solver='liblinear')))\n",
    "models.append(('LDA', LinearDiscriminantAnalysis()))\n",
    "models.append(('QDA', QuadraticDiscriminantAnalysis()))\n",
    "models.append(('KNN', KNeighborsClassifier()))\n",
    "models.append(('ET', ExtraTreesClassifier(random_state = 3)))\n",
    "models.append(('NB', GaussianNB()))\n",
    "models.append(('LSVC', LinearSVC(random_state = 3)))\n",
    "\n",
    "# evaluate each model in turn\n",
    "results = []\n",
    "names = []\n",
    "scoring = 'accuracy'\n",
    "for name, model in models:\n",
    "  kfold = KFold(n_splits=10, random_state=3,shuffle=True)\n",
    "  cv_results = cross_val_score(model, X, Y, cv=kfold, scoring=scoring)\n",
    "  results.append(cv_results)\n",
    "  names.append(name)\n",
    "  msg = \"%s: %f (%f)\" % (name, cv_results.mean(), cv_results.std())\n",
    "  print(msg)\n"
   ]
  },
  {
   "cell_type": "markdown",
   "id": "d6e08a0c",
   "metadata": {},
   "source": [
    "**Notes on results:**\n",
    "\n",
    "LR - performs well and trains quickly. Assumes linearity. ***EXPLORE FURTHER/TUNE***\n",
    "\n",
    "LDA/QDA - not good enough. \n",
    "\n",
    "KNN performs well but takes too long to run. (requires the whole dataset to be stored?)\n",
    "\n",
    "Extra trees - performs too well, likely overfitting, wont peform well on test. Extra trees supposed to reduce overfitting. \n",
    "\n",
    "NB - simple and performs well. good candidate alg. ***EXPLORE FURTHER/TUNE***\n",
    "\n",
    "Linear SVC perfom well. In [4] a SVM with gradient descent and a linear function was used to reduce the training time. Time is good/quick here.Quicker than ET. ***EXPLORE FURTHER/TUNE***"
   ]
  },
  {
   "cell_type": "markdown",
   "id": "0df9c084",
   "metadata": {},
   "source": [
    "## Hyperparameter Tuning"
   ]
  },
  {
   "cell_type": "markdown",
   "id": "3248ed48",
   "metadata": {},
   "source": [
    "### Logistic Regression Tuning\n"
   ]
  },
  {
   "cell_type": "code",
   "execution_count": 25,
   "id": "cde2e1a9",
   "metadata": {},
   "outputs": [
    {
     "data": {
      "text/plain": [
       "RandomizedSearchCV(cv=5, estimator=LogisticRegression(),\n",
       "                   param_distributions=[{'C': [0.01, 0.05, 0.08, 0.1, 0.3, 0.5,\n",
       "                                               0.8],\n",
       "                                         'solver': ['lbfgs', 'liblinear', 'sag',\n",
       "                                                    'saga', 'newton-cg']},\n",
       "                                        {'C': [0.01, 0.05, 0.08, 0.1, 0.3, 0.5,\n",
       "                                               0.8],\n",
       "                                         'penalty': ['l1'],\n",
       "                                         'solver': ['liblinear', 'saga']},\n",
       "                                        {'C': [0.01, 0.05, 0.08, 0.1, 0.3, 0.5,\n",
       "                                               0.8],\n",
       "                                         'penalty': ['none'],\n",
       "                                         'solver': ['lbfgs', 'sag', 'saga',\n",
       "                                                    'newton-cg']}],\n",
       "                   random_state=3)"
      ]
     },
     "execution_count": 25,
     "metadata": {},
     "output_type": "execute_result"
    }
   ],
   "source": [
    "# Parameters available are: penalty, C, solver. \n",
    "# penalty and solver linked in that the penalty depends on which solver.\n",
    "\n",
    "param_grid = [\n",
    "    {'solver':['lbfgs','liblinear','sag','saga','newton-cg'],'C': [0.01,0.05,0.08,0.1,0.3,0.5,0.8]},\n",
    "    {'penalty': ['l1'],'solver':['liblinear','saga'],'C': [0.01,0.05,0.08,0.1,0.3,0.5,0.8]},\n",
    "    {'penalty': ['none'],'solver':['lbfgs','sag','saga','newton-cg'],'C': [0.01,0.05,0.08,0.1,0.3,0.5,0.8]},\n",
    "]\n",
    "\n",
    "lr_model = LogisticRegression()\n",
    "\n",
    "lr_search = RandomizedSearchCV(lr_model, param_grid ,random_state = 3, cv = 5)\n",
    "lr_search.fit(X_train_final, y_train)"
   ]
  },
  {
   "cell_type": "markdown",
   "id": "d795a167",
   "metadata": {},
   "source": [
    "#### Best results for logistic regression:"
   ]
  },
  {
   "cell_type": "code",
   "execution_count": 26,
   "id": "a8090d65",
   "metadata": {},
   "outputs": [
    {
     "data": {
      "text/plain": [
       "{'solver': 'newton-cg', 'penalty': 'none', 'C': 0.08}"
      ]
     },
     "execution_count": 26,
     "metadata": {},
     "output_type": "execute_result"
    }
   ],
   "source": [
    "lr_search.best_params_"
   ]
  },
  {
   "cell_type": "code",
   "execution_count": 27,
   "id": "bc1518e0",
   "metadata": {},
   "outputs": [
    {
     "data": {
      "text/plain": [
       "LogisticRegression(C=0.08, penalty='none', solver='newton-cg')"
      ]
     },
     "execution_count": 27,
     "metadata": {},
     "output_type": "execute_result"
    }
   ],
   "source": [
    "lr_search.best_estimator_"
   ]
  },
  {
   "cell_type": "code",
   "execution_count": 28,
   "id": "e6231a96",
   "metadata": {},
   "outputs": [
    {
     "data": {
      "text/plain": [
       "0.9790429574289947"
      ]
     },
     "execution_count": 28,
     "metadata": {},
     "output_type": "execute_result"
    }
   ],
   "source": [
    "lr_search.best_score_"
   ]
  },
  {
   "cell_type": "markdown",
   "id": "d4bcd84a",
   "metadata": {},
   "source": [
    "This score is an improvement on the initial exploration of models above"
   ]
  },
  {
   "cell_type": "markdown",
   "id": "cacbb22a",
   "metadata": {},
   "source": [
    "### NB Tuning"
   ]
  },
  {
   "cell_type": "code",
   "execution_count": 29,
   "id": "101100a7",
   "metadata": {},
   "outputs": [
    {
     "data": {
      "text/plain": [
       "RandomizedSearchCV(cv=5, estimator=GaussianNB(),\n",
       "                   param_distributions=[{'var_smoothing': [1e-10, 1e-09, 1e-07,\n",
       "                                                           1e-05]}],\n",
       "                   random_state=3)"
      ]
     },
     "execution_count": 29,
     "metadata": {},
     "output_type": "execute_result"
    }
   ],
   "source": [
    "# smoothing default at 1e-9.\n",
    "\n",
    "param_grid3 = [\n",
    "    {'var_smoothing': [1e-10,1e-9,1e-7,1e-5]},\n",
    "    ]\n",
    "\n",
    "nb_model = GaussianNB()\n",
    "\n",
    "nb_search = RandomizedSearchCV(nb_model,param_grid3,random_state =3, cv=5)\n",
    "nb_search.fit(X_train_final, y_train)"
   ]
  },
  {
   "cell_type": "code",
   "execution_count": 30,
   "id": "58bf56c4",
   "metadata": {},
   "outputs": [
    {
     "data": {
      "text/plain": [
       "{'var_smoothing': 1e-09}"
      ]
     },
     "execution_count": 30,
     "metadata": {},
     "output_type": "execute_result"
    }
   ],
   "source": [
    "nb_search.best_params_"
   ]
  },
  {
   "cell_type": "code",
   "execution_count": 31,
   "id": "ff470247",
   "metadata": {},
   "outputs": [
    {
     "data": {
      "text/plain": [
       "GaussianNB()"
      ]
     },
     "execution_count": 31,
     "metadata": {},
     "output_type": "execute_result"
    }
   ],
   "source": [
    "nb_search.best_estimator_"
   ]
  },
  {
   "cell_type": "code",
   "execution_count": 32,
   "id": "57f9f442",
   "metadata": {},
   "outputs": [
    {
     "data": {
      "text/plain": [
       "0.9815160687834096"
      ]
     },
     "execution_count": 32,
     "metadata": {},
     "output_type": "execute_result"
    }
   ],
   "source": [
    "nb_search.best_score_"
   ]
  },
  {
   "cell_type": "markdown",
   "id": "70944620",
   "metadata": {},
   "source": [
    "A small improvement on the untuned model"
   ]
  },
  {
   "cell_type": "markdown",
   "id": "cb807e64",
   "metadata": {},
   "source": [
    "### LSVC Tuning"
   ]
  },
  {
   "cell_type": "code",
   "execution_count": 33,
   "id": "dcf92760",
   "metadata": {},
   "outputs": [
    {
     "data": {
      "text/plain": [
       "RandomizedSearchCV(cv=5, estimator=LinearSVC(random_state=3),\n",
       "                   param_distributions=[{'C': [0.1, 0.3, 0.5, 0.8, 1.0, 1.2,\n",
       "                                               1.5, 2.0],\n",
       "                                         'loss': ['sqaured_hinge', 'hinge'],\n",
       "                                         'penalty': ['l1', 'l2']}],\n",
       "                   random_state=3)"
      ]
     },
     "execution_count": 33,
     "metadata": {},
     "output_type": "execute_result"
    }
   ],
   "source": [
    "param_grid3 = [\n",
    "    {'penalty': ['l1','l2'], 'loss': ['sqaured_hinge','hinge'], 'C':[0.1,0.3,0.5,0.8,1.0,1.2,1.5,2.0]},\n",
    "    ]\n",
    "\n",
    "lsvc_model = LinearSVC(random_state = 3)\n",
    "\n",
    "lsvc_search = RandomizedSearchCV(lsvc_model,param_grid3,random_state =3, cv=5)\n",
    "lsvc_search.fit(X_train_final, y_train)"
   ]
  },
  {
   "cell_type": "code",
   "execution_count": 34,
   "id": "fe68793a",
   "metadata": {},
   "outputs": [
    {
     "data": {
      "text/plain": [
       "{'penalty': 'l2', 'loss': 'hinge', 'C': 1.5}"
      ]
     },
     "execution_count": 34,
     "metadata": {},
     "output_type": "execute_result"
    }
   ],
   "source": [
    "lsvc_search.best_params_"
   ]
  },
  {
   "cell_type": "code",
   "execution_count": 35,
   "id": "68df0776",
   "metadata": {},
   "outputs": [
    {
     "data": {
      "text/plain": [
       "LinearSVC(C=1.5, loss='hinge', random_state=3)"
      ]
     },
     "execution_count": 35,
     "metadata": {},
     "output_type": "execute_result"
    }
   ],
   "source": [
    "lsvc_search.best_estimator_"
   ]
  },
  {
   "cell_type": "code",
   "execution_count": 36,
   "id": "7867772a",
   "metadata": {},
   "outputs": [
    {
     "data": {
      "text/plain": [
       "0.9841051072325626"
      ]
     },
     "execution_count": 36,
     "metadata": {},
     "output_type": "execute_result"
    }
   ],
   "source": [
    "lsvc_search.best_score_"
   ]
  },
  {
   "cell_type": "markdown",
   "id": "3da974f2",
   "metadata": {},
   "source": [
    "A small improvement on the untuned model"
   ]
  },
  {
   "cell_type": "markdown",
   "id": "0d07b706",
   "metadata": {},
   "source": [
    "## 3 Models:"
   ]
  },
  {
   "cell_type": "code",
   "execution_count": 37,
   "id": "226f4b65",
   "metadata": {},
   "outputs": [
    {
     "name": "stdout",
     "output_type": "stream",
     "text": [
      "LR: 0.979030 (0.001293)\n",
      "NB: 0.981168 (0.002130)\n",
      "LSVC: 0.984363 (0.000897)\n"
     ]
    }
   ],
   "source": [
    "# Compare 3 models with tuned parameters.\n",
    "\n",
    "array = X_train_final.values\n",
    "X = array[ : , 0:15]\n",
    "Y = y_train\n",
    "\n",
    "# prepare models with best parameters output\n",
    "models3 = []\n",
    "models3.append(('LR', lr_search.best_estimator_))\n",
    "models3.append(('NB', nb_search.best_estimator_))\n",
    "models3.append(('LSVC', lsvc_search.best_estimator_))\n",
    "\n",
    "# evaluate each model in turn\n",
    "results = []\n",
    "names = []\n",
    "scoring = 'accuracy'\n",
    "for name, model in models3:\n",
    "  kfold = KFold(n_splits=10, random_state=3,shuffle=True)\n",
    "  cv_results = cross_val_score(model, X, Y, cv=kfold, scoring=scoring)\n",
    "  results.append(cv_results)\n",
    "  names.append(name)\n",
    "  msg = \"%s: %f (%f)\" % (name, cv_results.mean(), cv_results.std())\n",
    "  print(msg)"
   ]
  },
  {
   "cell_type": "markdown",
   "id": "4e43c820",
   "metadata": {},
   "source": [
    "# Reviewing the 3 Models with Various Evaluation Metrics on TEST DATA:"
   ]
  },
  {
   "cell_type": "markdown",
   "id": "8ecf67b5",
   "metadata": {},
   "source": [
    "### Transform Validation Set to Use with Evaluation Metrics"
   ]
  },
  {
   "cell_type": "code",
   "execution_count": 38,
   "id": "94d0fe95",
   "metadata": {},
   "outputs": [
    {
     "data": {
      "text/plain": [
       "(19409, 15)"
      ]
     },
     "execution_count": 38,
     "metadata": {},
     "output_type": "execute_result"
    }
   ],
   "source": [
    "#1) Normalise data (done - using already normed validation data, normed at start for VAE)\n",
    "# n_X_valid = norm_scaler.transform(X_valid)\n",
    "#2) predict with encoder\n",
    "X_valid = encoded.predict(n_X_valid)\n",
    "\n",
    "#3) scale encoder output\n",
    "X_valid = norm_scaler20.transform(X_valid)\n",
    "\n",
    "#4) add 20 features from encoder output to normalised full dataset (remember need diff names or will over-write)\n",
    "X_valid_full = pd.DataFrame(n_X_valid)\n",
    "X_valid_gen = pd.DataFrame(X_valid)\n",
    "X_valid_df = pd.concat([X_valid_full,X_valid_gen],axis = 1)\n",
    "\n",
    "#5) feature selection 1 - variancethreshold\n",
    "X_valid = feat_sel.transform(X_valid_df)\n",
    "\n",
    "#6) feature selection 2 - Kbest with chi2\n",
    "X_valid = kbest.transform(X_valid)\n",
    "\n",
    "#7) feature selection 2 - Kbest with chi2\n",
    "X_valid = kbest_mi.transform(X_valid)\n",
    "\n",
    "X_valid.shape\n"
   ]
  },
  {
   "cell_type": "code",
   "execution_count": 39,
   "id": "ed32e494",
   "metadata": {},
   "outputs": [
    {
     "data": {
      "text/plain": [
       "(19409,)"
      ]
     },
     "execution_count": 39,
     "metadata": {},
     "output_type": "execute_result"
    }
   ],
   "source": [
    "# Validation target class is stored in, check dimensions:\n",
    "y_valid.shape"
   ]
  },
  {
   "cell_type": "markdown",
   "id": "7aa13030",
   "metadata": {},
   "source": [
    "## Logistic Regression Further Evaluation"
   ]
  },
  {
   "cell_type": "code",
   "execution_count": 40,
   "id": "a1e3ee23",
   "metadata": {},
   "outputs": [],
   "source": [
    "#Create CV scorng function:\n",
    "def scoring_cv(measure, model, X = X, Y = Y):\n",
    "    kfold = KFold(n_splits = 10, random_state = 3, shuffle = True)\n",
    "    cv_results = cross_val_score(model, X, Y, cv=kfold, scoring=measure)\n",
    "    return measure, round(cv_results.mean(),5), round(cv_results.std(),5)"
   ]
  },
  {
   "cell_type": "code",
   "execution_count": 41,
   "id": "668777de",
   "metadata": {},
   "outputs": [
    {
     "name": "stdout",
     "output_type": "stream",
     "text": [
      "('accuracy', 0.97903, 0.00129)\n",
      "('neg_log_loss', -0.06185, 0.00379)\n",
      "('roc_auc', 0.9974, 0.0003)\n"
     ]
    }
   ],
   "source": [
    "print(scoring_cv('accuracy',lr_search.best_estimator_))\n",
    "print(scoring_cv('neg_log_loss',lr_search.best_estimator_))\n",
    "print(scoring_cv('roc_auc',lr_search.best_estimator_))"
   ]
  },
  {
   "cell_type": "code",
   "execution_count": 42,
   "id": "911a67d8",
   "metadata": {},
   "outputs": [
    {
     "name": "stdout",
     "output_type": "stream",
     "text": [
      "AUC: 0.997\n"
     ]
    },
    {
     "data": {
      "image/png": "[encoded data removed]",
      "text/plain": [
       "<Figure size 432x288 with 1 Axes>"
      ]
     },
     "metadata": {
      "needs_background": "light"
     },
     "output_type": "display_data"
    }
   ],
   "source": [
    "# fit a model (code used from lab)\n",
    "lr_model = lr_search.best_estimator_\n",
    "lr_model.fit(X,Y)\n",
    "# predict probabilities\n",
    "probs = lr_model.predict_proba(X_valid)\n",
    "# keep probabilities for the positive outcome only\n",
    "probs = probs[:, 1]\n",
    "# calculate AUC\n",
    "auc = roc_auc_score(y_valid, probs)\n",
    "print('AUC: %.3f' % auc)\n",
    "# calculate roc curve\n",
    "fpr, tpr, thresholds = roc_curve(y_valid, probs)\n",
    "# plot no skill\n",
    "pyplot.plot([0, 1], [0, 1], linestyle='--')\n",
    "# plot the roc curve for the model\n",
    "pyplot.plot(fpr, tpr, marker='.')\n",
    "# show the plot\n",
    "pyplot.show()"
   ]
  },
  {
   "cell_type": "markdown",
   "id": "e6405e33",
   "metadata": {},
   "source": [
    "Seems pretty good on the validation set. But, how it will perform on the test set?"
   ]
  },
  {
   "cell_type": "code",
   "execution_count": 43,
   "id": "3cecaef1",
   "metadata": {},
   "outputs": [
    {
     "data": {
      "text/plain": [
       "<AxesSubplot:>"
      ]
     },
     "execution_count": 43,
     "metadata": {},
     "output_type": "execute_result"
    },
    {
     "data": {
      "image/png": "[encoded data removed]",
      "text/plain": [
       "<Figure size 432x288 with 2 Axes>"
      ]
     },
     "metadata": {
      "needs_background": "light"
     },
     "output_type": "display_data"
    }
   ],
   "source": [
    "# review a confusion matrix (code used from lab)\n",
    "lr_predicted = lr_model.predict(X_valid)\n",
    "lr_matrix = confusion_matrix(y_valid, lr_predicted) \n",
    "# print(lr_matrix)\n",
    "group_names = ['True Neg', 'False Pos', 'False Neg', 'True Pos']\n",
    "group_counts = [\"{0:0.0f}\".format(value) for value in lr_matrix.flatten()]\n",
    "group_percentages = [\"{0:.2%}\".format(value) for value in lr_matrix.flatten()/np.sum(lr_matrix)]\n",
    "labels = [f\"{v1}\\n{v2}\\n{v3}\" for v1, v2, v3 in\n",
    "          zip(group_names,group_counts,group_percentages)]\n",
    "labels = np.asarray(labels).reshape(2,2)\n",
    "sns.heatmap(lr_matrix, annot=labels, fmt='', cmap='Greens')"
   ]
  },
  {
   "cell_type": "markdown",
   "id": "6bd4e17a",
   "metadata": {},
   "source": [
    "Type I error (false alarm) = FP / FP + TN = 248 / 248 + 9490 = 0.02547 (2.5%)\n",
    "\n",
    "Type II error (miss rate) = FN / FN + TP = 173 / 173 +9498 = 0.01789 (1.8%)"
   ]
  },
  {
   "cell_type": "code",
   "execution_count": 44,
   "id": "a53cfc5e",
   "metadata": {},
   "outputs": [
    {
     "name": "stdout",
     "output_type": "stream",
     "text": [
      "              precision    recall  f1-score   support\n",
      "\n",
      "         0.0       0.98      0.97      0.98      9738\n",
      "         1.0       0.97      0.98      0.98      9671\n",
      "\n",
      "    accuracy                           0.98     19409\n",
      "   macro avg       0.98      0.98      0.98     19409\n",
      "weighted avg       0.98      0.98      0.98     19409\n",
      "\n"
     ]
    }
   ],
   "source": [
    "#classification report\n",
    "lr_report = classification_report(y_valid, lr_predicted) \n",
    "print(lr_report)"
   ]
  },
  {
   "cell_type": "markdown",
   "id": "2d8e948c",
   "metadata": {},
   "source": [
    "### Naive Bayes Further Evaluation"
   ]
  },
  {
   "cell_type": "code",
   "execution_count": 45,
   "id": "0a3ce6fc",
   "metadata": {},
   "outputs": [
    {
     "name": "stdout",
     "output_type": "stream",
     "text": [
      "('accuracy', 0.98117, 0.00213)\n",
      "('neg_log_loss', -0.39884, 0.03902)\n",
      "('roc_auc', 0.99375, 0.00094)\n"
     ]
    }
   ],
   "source": [
    "print(scoring_cv('accuracy',nb_search.best_estimator_))\n",
    "print(scoring_cv('neg_log_loss',nb_search.best_estimator_))\n",
    "print(scoring_cv('roc_auc',nb_search.best_estimator_))"
   ]
  },
  {
   "cell_type": "code",
   "execution_count": 46,
   "id": "433191ef",
   "metadata": {},
   "outputs": [
    {
     "name": "stdout",
     "output_type": "stream",
     "text": [
      "AUC: 0.993\n"
     ]
    },
    {
     "data": {
      "image/png": "[encoded data removed]",
      "text/plain": [
       "<Figure size 432x288 with 1 Axes>"
      ]
     },
     "metadata": {
      "needs_background": "light"
     },
     "output_type": "display_data"
    }
   ],
   "source": [
    "# fit a model\n",
    "nb_model = nb_search.best_estimator_\n",
    "nb_model.fit(X,Y)\n",
    "# predict probabilities\n",
    "probs = nb_model.predict_proba(X_valid)\n",
    "# keep probabilities for the positive outcome only\n",
    "probs = probs[:, 1]\n",
    "# calculate AUC\n",
    "auc = roc_auc_score(y_valid, probs)\n",
    "print('AUC: %.3f' % auc)\n",
    "# calculate roc curve\n",
    "fpr, tpr, thresholds = roc_curve(y_valid, probs)\n",
    "# plot no skill\n",
    "pyplot.plot([0, 1], [0, 1], linestyle='--')\n",
    "# plot the roc curve for the model\n",
    "pyplot.plot(fpr, tpr, marker='.')\n",
    "# show the plot\n",
    "pyplot.show()"
   ]
  },
  {
   "cell_type": "code",
   "execution_count": 47,
   "id": "0f00cc08",
   "metadata": {},
   "outputs": [
    {
     "data": {
      "text/plain": [
       "<AxesSubplot:>"
      ]
     },
     "execution_count": 47,
     "metadata": {},
     "output_type": "execute_result"
    },
    {
     "data": {
      "image/png": "[encoded data removed]",
      "text/plain": [
       "<Figure size 432x288 with 2 Axes>"
      ]
     },
     "metadata": {
      "needs_background": "light"
     },
     "output_type": "display_data"
    }
   ],
   "source": [
    "nb_model = nb_search.best_estimator_\n",
    "nb_model.fit(X,Y)\n",
    "\n",
    "nb_predicted = nb_model.predict(X_valid)\n",
    "nb_matrix = confusion_matrix(y_valid, nb_predicted) \n",
    "# print(lr_matrix)\n",
    "group_names = ['True Neg', 'False Pos', 'False Neg', 'True Pos']\n",
    "group_counts = [\"{0:0.0f}\".format(value) for value in nb_matrix.flatten()]\n",
    "group_percentages = [\"{0:.2%}\".format(value) for value in nb_matrix.flatten()/np.sum(nb_matrix)]\n",
    "labels = [f\"{v1}\\n{v2}\\n{v3}\" for v1, v2, v3 in\n",
    "          zip(group_names,group_counts,group_percentages)]\n",
    "labels = np.asarray(labels).reshape(2,2)\n",
    "sns.heatmap(nb_matrix, annot=labels, fmt='', cmap='Purples')"
   ]
  },
  {
   "cell_type": "code",
   "execution_count": 48,
   "id": "42d5c8ef",
   "metadata": {},
   "outputs": [
    {
     "name": "stdout",
     "output_type": "stream",
     "text": [
      "              precision    recall  f1-score   support\n",
      "\n",
      "         0.0       0.98      0.98      0.98      9738\n",
      "         1.0       0.98      0.98      0.98      9671\n",
      "\n",
      "    accuracy                           0.98     19409\n",
      "   macro avg       0.98      0.98      0.98     19409\n",
      "weighted avg       0.98      0.98      0.98     19409\n",
      "\n"
     ]
    }
   ],
   "source": [
    "#classification report\n",
    "nb_report = classification_report(y_valid, nb_predicted) \n",
    "print(nb_report)"
   ]
  },
  {
   "cell_type": "markdown",
   "id": "f38ad213",
   "metadata": {},
   "source": [
    "### LSVC Further Evaluation"
   ]
  },
  {
   "cell_type": "code",
   "execution_count": 49,
   "id": "c3b895ee",
   "metadata": {},
   "outputs": [
    {
     "name": "stdout",
     "output_type": "stream",
     "text": [
      "('accuracy', 0.98436, 0.0009)\n",
      "('neg_log_loss', nan, nan)\n",
      "('roc_auc', 0.99624, 0.00041)\n"
     ]
    }
   ],
   "source": [
    "print(scoring_cv('accuracy',lsvc_search.best_estimator_))\n",
    "print(scoring_cv('neg_log_loss',lsvc_search.best_estimator_))\n",
    "print(scoring_cv('roc_auc',lsvc_search.best_estimator_))"
   ]
  },
  {
   "cell_type": "code",
   "execution_count": 50,
   "id": "d9d35ba0",
   "metadata": {},
   "outputs": [
    {
     "data": {
      "text/plain": [
       "<AxesSubplot:>"
      ]
     },
     "execution_count": 50,
     "metadata": {},
     "output_type": "execute_result"
    },
    {
     "data": {
      "image/png": "[encoded data removed]",
      "text/plain": [
       "<Figure size 432x288 with 2 Axes>"
      ]
     },
     "metadata": {
      "needs_background": "light"
     },
     "output_type": "display_data"
    }
   ],
   "source": [
    "lsvc_model = lsvc_search.best_estimator_\n",
    "lsvc_model.fit(X,Y)\n",
    "\n",
    "lsvc_predicted = lsvc_model.predict(X_valid)\n",
    "lsvc_matrix = confusion_matrix(y_valid, nb_predicted) \n",
    "# print(lr_matrix)\n",
    "group_names = ['True Neg', 'False Pos', 'False Neg', 'True Pos']\n",
    "group_counts = [\"{0:0.0f}\".format(value) for value in lsvc_matrix.flatten()]\n",
    "group_percentages = [\"{0:.2%}\".format(value) for value in lsvc_matrix.flatten()/np.sum(lsvc_matrix)]\n",
    "labels = [f\"{v1}\\n{v2}\\n{v3}\" for v1, v2, v3 in\n",
    "          zip(group_names,group_counts,group_percentages)]\n",
    "labels = np.asarray(labels).reshape(2,2)\n",
    "sns.heatmap(lsvc_matrix, annot=labels, fmt='', cmap='Reds')"
   ]
  },
  {
   "cell_type": "code",
   "execution_count": 51,
   "id": "4afacce0",
   "metadata": {},
   "outputs": [
    {
     "name": "stdout",
     "output_type": "stream",
     "text": [
      "              precision    recall  f1-score   support\n",
      "\n",
      "         0.0       0.98      0.98      0.98      9738\n",
      "         1.0       0.98      0.98      0.98      9671\n",
      "\n",
      "    accuracy                           0.98     19409\n",
      "   macro avg       0.98      0.98      0.98     19409\n",
      "weighted avg       0.98      0.98      0.98     19409\n",
      "\n"
     ]
    }
   ],
   "source": [
    "#classification report\n",
    "lsvc_report = classification_report(y_valid, nb_predicted) \n",
    "print(lsvc_report)"
   ]
  },
  {
   "cell_type": "markdown",
   "id": "08a7ac8f",
   "metadata": {},
   "source": [
    "#### All models perform well on the validation set"
   ]
  },
  {
   "cell_type": "markdown",
   "id": "13037e79",
   "metadata": {},
   "source": [
    "## Apply Models to the test data:"
   ]
  },
  {
   "cell_type": "code",
   "execution_count": 52,
   "id": "896c2be0",
   "metadata": {},
   "outputs": [],
   "source": [
    "testfile = 'test_imperson_without4n7_balanced_data.csv'"
   ]
  },
  {
   "cell_type": "code",
   "execution_count": 53,
   "id": "abc42c1a",
   "metadata": {},
   "outputs": [
    {
     "name": "stdout",
     "output_type": "stream",
     "text": [
      "<class 'pandas.core.frame.DataFrame'>\n",
      "RangeIndex: 40158 entries, 0 to 40157\n",
      "Columns: 152 entries, 1 to 155\n",
      "dtypes: float64(41), int64(111)\n",
      "memory usage: 46.6 MB\n"
     ]
    }
   ],
   "source": [
    "#remove column 38\n",
    "test = pd.read_csv(testfile)\n",
    "test_data = test.drop(labels = '38', axis =1, inplace = False)\n",
    "test_data.info()"
   ]
  },
  {
   "cell_type": "code",
   "execution_count": 54,
   "id": "9c92ecc7",
   "metadata": {},
   "outputs": [
    {
     "data": {
      "text/plain": [
       "(40158, 151)"
      ]
     },
     "execution_count": 54,
     "metadata": {},
     "output_type": "execute_result"
    }
   ],
   "source": [
    "array = test_data.values\n",
    "x_test = array[ : , 0:151]\n",
    "y_test = array[ : , 151]\n",
    "x_test.shape\n",
    "#y_test.shape\n"
   ]
  },
  {
   "cell_type": "code",
   "execution_count": 55,
   "id": "a20d1a7e",
   "metadata": {},
   "outputs": [
    {
     "data": {
      "text/plain": [
       "(40158, 15)"
      ]
     },
     "execution_count": 55,
     "metadata": {},
     "output_type": "execute_result"
    }
   ],
   "source": [
    "#1) Normalise data \n",
    "n_X_test = norm_scaler.transform(x_test)\n",
    "\n",
    "#2) predict with encoder\n",
    "X_test = encoded.predict(n_X_test)\n",
    "\n",
    "#3) scale encoder output\n",
    "X_test = norm_scaler20.transform(X_test)\n",
    "\n",
    "#4) add 20 features from encoder output to normalised full dataset (use diff names so doesn't over-write and can add)\n",
    "X_test_full = pd.DataFrame(n_X_test)\n",
    "X_test_gen = pd.DataFrame(X_test)\n",
    "X_test_df = pd.concat([X_test_full,X_test_gen],axis = 1)\n",
    "\n",
    "#5) feature selection 1 - variancethreshold\n",
    "X_test = feat_sel.transform(X_test_df)\n",
    "\n",
    "#6) feature selection 2 - Kbest with chi2\n",
    "X_test = kbest.transform(X_test)\n",
    "\n",
    "#7) feature selection 2 - Kbest with chi2\n",
    "X_test = kbest_mi.transform(X_test)\n",
    "\n",
    "X_test.shape"
   ]
  },
  {
   "cell_type": "markdown",
   "id": "50b58d9e",
   "metadata": {},
   "source": [
    "### Logistic Regression"
   ]
  },
  {
   "cell_type": "code",
   "execution_count": 56,
   "id": "84711c88",
   "metadata": {},
   "outputs": [
    {
     "data": {
      "text/plain": [
       "0.7295931072264555"
      ]
     },
     "execution_count": 56,
     "metadata": {},
     "output_type": "execute_result"
    }
   ],
   "source": [
    "lr_pred = lr_model.predict(X_test)\n",
    "lr_score = lr_model.score(X_test, y_test)\n",
    "lr_score"
   ]
  },
  {
   "cell_type": "code",
   "execution_count": 57,
   "id": "b56756cd",
   "metadata": {},
   "outputs": [
    {
     "name": "stdout",
     "output_type": "stream",
     "text": [
      "AUC: 0.971\n"
     ]
    },
    {
     "data": {
      "image/png": "[encoded data removed]",
      "text/plain": [
       "<Figure size 432x288 with 1 Axes>"
      ]
     },
     "metadata": {
      "needs_background": "light"
     },
     "output_type": "display_data"
    }
   ],
   "source": [
    "lr_probs = lr_model.predict_proba(X_test)\n",
    "# keep probabilities for the positive outcome only\n",
    "probs = lr_probs[:, 1]\n",
    "# calculate AUC\n",
    "auc = roc_auc_score(y_test, probs)\n",
    "print('AUC: %.3f' % auc)\n",
    "# calculate roc curve\n",
    "fpr, tpr, thresholds = roc_curve(y_test, probs)\n",
    "# plot no skill\n",
    "pyplot.plot([0, 1], [0, 1], linestyle='--')\n",
    "# plot the roc curve for the model\n",
    "pyplot.plot(fpr, tpr, marker='.')\n",
    "# show the plot\n",
    "pyplot.show()"
   ]
  },
  {
   "cell_type": "code",
   "execution_count": 58,
   "id": "42378362",
   "metadata": {},
   "outputs": [
    {
     "data": {
      "text/plain": [
       "<AxesSubplot:>"
      ]
     },
     "execution_count": 58,
     "metadata": {},
     "output_type": "execute_result"
    },
    {
     "data": {
      "image/png": "[encoded data removed]",
      "text/plain": [
       "<Figure size 432x288 with 2 Axes>"
      ]
     },
     "metadata": {
      "needs_background": "light"
     },
     "output_type": "display_data"
    }
   ],
   "source": [
    "# review a confusion matrix\n",
    "\n",
    "lr_matrix = confusion_matrix(y_test, lr_pred) \n",
    "# print(lr_matrix)\n",
    "group_names = ['True Neg', 'False Pos', 'False Neg', 'True Pos']\n",
    "group_counts = [\"{0:0.0f}\".format(value) for value in lr_matrix.flatten()]\n",
    "group_percentages = [\"{0:.2%}\".format(value) for value in lr_matrix.flatten()/np.sum(lr_matrix)]\n",
    "labels = [f\"{v1}\\n{v2}\\n{v3}\" for v1, v2, v3 in\n",
    "          zip(group_names,group_counts,group_percentages)]\n",
    "labels = np.asarray(labels).reshape(2,2)\n",
    "sns.heatmap(lr_matrix, annot=labels, fmt='', cmap='Greens')"
   ]
  },
  {
   "cell_type": "code",
   "execution_count": 59,
   "id": "492ca2eb",
   "metadata": {},
   "outputs": [
    {
     "name": "stdout",
     "output_type": "stream",
     "text": [
      "              precision    recall  f1-score   support\n",
      "\n",
      "         0.0       0.65      0.97      0.78     20079\n",
      "         1.0       0.94      0.49      0.64     20079\n",
      "\n",
      "    accuracy                           0.73     40158\n",
      "   macro avg       0.80      0.73      0.71     40158\n",
      "weighted avg       0.80      0.73      0.71     40158\n",
      "\n"
     ]
    }
   ],
   "source": [
    "#classification report\n",
    "lr_report = classification_report(y_test, lr_pred) \n",
    "print(lr_report)"
   ]
  },
  {
   "cell_type": "markdown",
   "id": "3a00dd7e",
   "metadata": {},
   "source": [
    "## Naive Bayes"
   ]
  },
  {
   "cell_type": "code",
   "execution_count": 60,
   "id": "667ce0d3",
   "metadata": {},
   "outputs": [
    {
     "data": {
      "text/plain": [
       "0.9785347875890233"
      ]
     },
     "execution_count": 60,
     "metadata": {},
     "output_type": "execute_result"
    }
   ],
   "source": [
    "nb_pred = nb_model.predict(X_test)\n",
    "nb_score = nb_model.score(X_test, y_test)\n",
    "nb_score"
   ]
  },
  {
   "cell_type": "code",
   "execution_count": 61,
   "id": "8d91ac4e",
   "metadata": {},
   "outputs": [
    {
     "name": "stdout",
     "output_type": "stream",
     "text": [
      "AUC: 0.974\n"
     ]
    },
    {
     "data": {
      "image/png": "[encoded data removed]",
      "text/plain": [
       "<Figure size 432x288 with 1 Axes>"
      ]
     },
     "metadata": {
      "needs_background": "light"
     },
     "output_type": "display_data"
    }
   ],
   "source": [
    "nb_probs =nb_model.predict_proba(X_test)\n",
    "\n",
    "# keep probabilities for the positive outcome only\n",
    "probs = nb_probs[:, 1]\n",
    "# calculate AUC\n",
    "auc = roc_auc_score(y_test, probs)\n",
    "print('AUC: %.3f' % auc)\n",
    "# calculate roc curve\n",
    "fpr, tpr, thresholds = roc_curve(y_test, probs)\n",
    "# plot no skill\n",
    "pyplot.plot([0, 1], [0, 1], linestyle='--')\n",
    "# plot the roc curve for the model\n",
    "pyplot.plot(fpr, tpr, marker='.')\n",
    "# show the plot\n",
    "pyplot.show()"
   ]
  },
  {
   "cell_type": "code",
   "execution_count": 62,
   "id": "e6b1ef2d",
   "metadata": {},
   "outputs": [
    {
     "data": {
      "text/plain": [
       "<AxesSubplot:>"
      ]
     },
     "execution_count": 62,
     "metadata": {},
     "output_type": "execute_result"
    },
    {
     "data": {
      "image/png": "[encoded data removed]",
      "text/plain": [
       "<Figure size 432x288 with 2 Axes>"
      ]
     },
     "metadata": {
      "needs_background": "light"
     },
     "output_type": "display_data"
    }
   ],
   "source": [
    "nb_matrix = confusion_matrix(y_test, nb_pred) \n",
    "group_names = ['True Neg', 'False Pos', 'False Neg', 'True Pos']\n",
    "group_counts = [\"{0:0.0f}\".format(value) for value in nb_matrix.flatten()]\n",
    "group_percentages = [\"{0:.2%}\".format(value) for value in nb_matrix.flatten()/np.sum(nb_matrix)]\n",
    "labels = [f\"{v1}\\n{v2}\\n{v3}\" for v1, v2, v3 in\n",
    "          zip(group_names,group_counts,group_percentages)]\n",
    "labels = np.asarray(labels).reshape(2,2)\n",
    "sns.heatmap(nb_matrix, annot=labels, fmt='', cmap='Purples')"
   ]
  },
  {
   "cell_type": "code",
   "execution_count": 63,
   "id": "d7ce3fed",
   "metadata": {},
   "outputs": [
    {
     "name": "stdout",
     "output_type": "stream",
     "text": [
      "              precision    recall  f1-score   support\n",
      "\n",
      "         0.0       0.99      0.97      0.98     20079\n",
      "         1.0       0.97      0.99      0.98     20079\n",
      "\n",
      "    accuracy                           0.98     40158\n",
      "   macro avg       0.98      0.98      0.98     40158\n",
      "weighted avg       0.98      0.98      0.98     40158\n",
      "\n"
     ]
    }
   ],
   "source": [
    "#classification report\n",
    "nb_report = classification_report(y_test, nb_pred) \n",
    "print(nb_report)"
   ]
  },
  {
   "cell_type": "markdown",
   "id": "a38bd9e8",
   "metadata": {},
   "source": [
    "## Linear SVC"
   ]
  },
  {
   "cell_type": "code",
   "execution_count": 64,
   "id": "9ee4e451",
   "metadata": {},
   "outputs": [
    {
     "data": {
      "text/plain": [
       "0.5349120972159969"
      ]
     },
     "execution_count": 64,
     "metadata": {},
     "output_type": "execute_result"
    }
   ],
   "source": [
    "lsvc_pred = lsvc_model.predict(X_test)\n",
    "lsvc_score = lsvc_model.score(X_test, y_test)\n",
    "lsvc_score"
   ]
  },
  {
   "cell_type": "code",
   "execution_count": 65,
   "id": "5fbedae5",
   "metadata": {},
   "outputs": [
    {
     "data": {
      "text/plain": [
       "<AxesSubplot:>"
      ]
     },
     "execution_count": 65,
     "metadata": {},
     "output_type": "execute_result"
    },
    {
     "data": {
      "image/png": "[encoded data removed]",
      "text/plain": [
       "<Figure size 432x288 with 2 Axes>"
      ]
     },
     "metadata": {
      "needs_background": "light"
     },
     "output_type": "display_data"
    }
   ],
   "source": [
    "lsvc_matrix = confusion_matrix(y_test, nb_pred) \n",
    "group_names = ['True Neg', 'False Pos', 'False Neg', 'True Pos']\n",
    "group_counts = [\"{0:0.0f}\".format(value) for value in lsvc_matrix.flatten()]\n",
    "group_percentages = [\"{0:.2%}\".format(value) for value in lsvc_matrix.flatten()/np.sum(lsvc_matrix)]\n",
    "labels = [f\"{v1}\\n{v2}\\n{v3}\" for v1, v2, v3 in\n",
    "          zip(group_names,group_counts,group_percentages)]\n",
    "labels = np.asarray(labels).reshape(2,2)\n",
    "sns.heatmap(lsvc_matrix, annot=labels, fmt='', cmap='Reds')"
   ]
  },
  {
   "cell_type": "code",
   "execution_count": 66,
   "id": "d8677ea3",
   "metadata": {},
   "outputs": [
    {
     "name": "stdout",
     "output_type": "stream",
     "text": [
      "              precision    recall  f1-score   support\n",
      "\n",
      "         0.0       0.52      0.97      0.68     20079\n",
      "         1.0       0.78      0.10      0.17     20079\n",
      "\n",
      "    accuracy                           0.53     40158\n",
      "   macro avg       0.65      0.53      0.43     40158\n",
      "weighted avg       0.65      0.53      0.43     40158\n",
      "\n"
     ]
    }
   ],
   "source": [
    "#classification report\n",
    "lsvc_report = classification_report(y_test, lsvc_pred) \n",
    "print(lsvc_report)"
   ]
  }
 ],
 "metadata": {
  "kernelspec": {
   "display_name": "Python 3",
   "language": "python",
   "name": "python3"
  },
  "language_info": {
   "codemirror_mode": {
    "name": "ipython",
    "version": 3
   },
   "file_extension": ".py",
   "mimetype": "text/x-python",
   "name": "python",
   "nbconvert_exporter": "python",
   "pygments_lexer": "ipython3",
   "version": "3.8.8"
  }
 },
 "nbformat": 4,
 "nbformat_minor": 5
}
